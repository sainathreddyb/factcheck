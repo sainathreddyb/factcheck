{
 "cells": [
  {
   "cell_type": "code",
   "execution_count": 1,
   "metadata": {},
   "outputs": [],
   "source": [
    "import numpy as np\n",
    "from bs4 import BeautifulSoup\n",
    "import requests\n",
    "import time\n",
    "import numpy as np\n",
    "from tqdm import tqdm"
   ]
  },
  {
   "cell_type": "code",
   "execution_count": 2,
   "metadata": {
    "scrolled": true
   },
   "outputs": [
    {
     "name": "stderr",
     "output_type": "stream",
     "text": [
      "100%|██████████████████████████████████████████████████████████████████████████████| 1779/1779 [59:58<00:00,  1.65s/it]\n"
     ]
    }
   ],
   "source": [
    "page_start = 1\n",
    "n_pages = 1779\n",
    "seconds_pause = 2\n",
    "\n",
    "for page_number in tqdm(range(page_start, n_pages + 1)):\n",
    "    try:\n",
    "        # Get html from that page\n",
    "        page_url = 'https://www.politifact.com/api/factchecks/?page={}'.format(page_number)\n",
    "        response = requests.get(page_url)\n",
    "        np.save(\"scraped_Set/\"+str(page_number)+\".npy\", response.json()) \n",
    "\n",
    "    except Exception as e:\n",
    "        print('\\nfailed to scrape page {}\\n{}\\n'.format(page_number, e))"
   ]
  },
  {
   "cell_type": "code",
   "execution_count": null,
   "metadata": {},
   "outputs": [],
   "source": []
  }
 ],
 "metadata": {
  "kernelspec": {
   "display_name": "Python 3",
   "language": "python",
   "name": "python3"
  },
  "language_info": {
   "codemirror_mode": {
    "name": "ipython",
    "version": 3
   },
   "file_extension": ".py",
   "mimetype": "text/x-python",
   "name": "python",
   "nbconvert_exporter": "python",
   "pygments_lexer": "ipython3",
   "version": "3.7.6"
  }
 },
 "nbformat": 4,
 "nbformat_minor": 4
}
