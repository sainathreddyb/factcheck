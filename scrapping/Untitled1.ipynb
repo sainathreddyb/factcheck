{
 "cells": [
  {
   "cell_type": "code",
   "execution_count": 45,
   "metadata": {},
   "outputs": [],
   "source": [
    "import numpy as np\n",
    "import os\n",
    "from tqdm import tqdm\n",
    "from bs4 import BeautifulSoup\n",
    "import re\n",
    "cleanr = re.compile('<.*?>')\n",
    "replace_list=['\\r','\\n','\\t','&quot','On']\n",
    "def cleanhtml(line):\n",
    "    for i in replace_list:\n",
    "        line = line.replace(i, '')\n",
    "\n",
    "    cleantext = re.sub(cleanr, '',line)\n",
    "    \n",
    "    \n",
    "    return cleantext"
   ]
  },
  {
   "cell_type": "code",
   "execution_count": 46,
   "metadata": {
    "scrolled": true
   },
   "outputs": [
    {
     "name": "stderr",
     "output_type": "stream",
     "text": [
      "100%|█████████████████████████████████████████████████████████████████████████████| 1780/1780 [00:02<00:00, 755.94it/s]\n"
     ]
    }
   ],
   "source": [
    "label=[]\n",
    "text=[]\n",
    "for i in tqdm(os.listdir(\"scraped_Set/\")):\n",
    "    if i==\"3.html\":\n",
    "        continue\n",
    "    dict1=np.load(\"scraped_Set/\"+i,allow_pickle=True).item()\n",
    "    articles=dict1['results']\n",
    "    for art in articles:\n",
    "        label.append(art[\"ruling_slug\"])\n",
    "        text.append(cleanhtml(art[\"statement\"]))\n",
    "    \n",
    "    "
   ]
  },
  {
   "cell_type": "code",
   "execution_count": 47,
   "metadata": {},
   "outputs": [],
   "source": [
    "\n",
    "import pandas as pd\n",
    "df=pd.DataFrame()"
   ]
  },
  {
   "cell_type": "code",
   "execution_count": 48,
   "metadata": {},
   "outputs": [],
   "source": [
    "df['label']=label\n",
    "df['text']=text"
   ]
  },
  {
   "cell_type": "code",
   "execution_count": 49,
   "metadata": {
    "scrolled": true
   },
   "outputs": [
    {
     "data": {
      "text/plain": [
       "(array(['barely-true', 'false', 'full-flop', 'half-flip', 'half-true',\n",
       "        'mostly-true', 'no-flip', 'pants-fire', 'true'], dtype=object),\n",
       " array([2931, 3731,  162,   71, 3289, 3116,   27, 2047, 2407], dtype=int64))"
      ]
     },
     "execution_count": 49,
     "metadata": {},
     "output_type": "execute_result"
    }
   ],
   "source": [
    "np.unique(df['label'],return_counts=True)"
   ]
  },
  {
   "cell_type": "code",
   "execution_count": 50,
   "metadata": {},
   "outputs": [],
   "source": [
    "false_list=[]\n",
    "neutral_list=[]           \n",
    "true_list=[]"
   ]
  },
  {
   "cell_type": "code",
   "execution_count": 51,
   "metadata": {
    "scrolled": true
   },
   "outputs": [],
   "source": [
    "mapping={'barely-true':'false','false':'false','pants-fire':'false','half-true':'neutral','mostly-true':'true','true':'true'}"
   ]
  },
  {
   "cell_type": "code",
   "execution_count": 52,
   "metadata": {},
   "outputs": [],
   "source": [
    "df['label']=df['label'].map(mapping)"
   ]
  },
  {
   "cell_type": "code",
   "execution_count": 53,
   "metadata": {
    "scrolled": true
   },
   "outputs": [],
   "source": [
    "df=df[df['label'].isin(['true','false','neutral'])]"
   ]
  },
  {
   "cell_type": "code",
   "execution_count": 54,
   "metadata": {
    "scrolled": true
   },
   "outputs": [
    {
     "data": {
      "text/plain": [
       "(array(['false', 'neutral', 'true'], dtype=object),\n",
       " array([8709, 3289, 5523], dtype=int64))"
      ]
     },
     "execution_count": 54,
     "metadata": {},
     "output_type": "execute_result"
    }
   ],
   "source": [
    "np.unique(df['label'],return_counts=\"True\")"
   ]
  },
  {
   "cell_type": "code",
   "execution_count": 63,
   "metadata": {},
   "outputs": [],
   "source": [
    "validation=[\"Novel coronavirus\",\"SARS-CoV-2\",\"covid\",\"cov\",\"corona\",\"virus\",\"COVID-19\",\"Nonmedical\",\"masks\",\"ppe\",\"medical\",\"face coverings\",\n",
    "\"N95\",\"Ventilators\",\"novel\",\"wuhan\",\"BiPap\",\"SARS\",\"MERS\",\"respiratory\",\"illness\",\"disease\",\"positive\",\"korona\"]"
   ]
  },
  {
   "cell_type": "code",
   "execution_count": 68,
   "metadata": {},
   "outputs": [],
   "source": [
    "tru_list=[False]*len(df)\n",
    "count=0\n",
    "for k,i in enumerate(df['text'].values):\n",
    "    i=i.lower()\n",
    "    for j in validation:\n",
    "        j=j.lower()\n",
    "        if j in i:\n",
    "            count=count+1\n",
    "            tru_list[k]=True\n",
    "            break"
   ]
  },
  {
   "cell_type": "code",
   "execution_count": 70,
   "metadata": {
    "scrolled": true
   },
   "outputs": [
    {
     "data": {
      "text/plain": [
       "(array(['false', 'neutral', 'true'], dtype=object),\n",
       " array([601, 185, 291], dtype=int64))"
      ]
     },
     "execution_count": 70,
     "metadata": {},
     "output_type": "execute_result"
    }
   ],
   "source": [
    "np.unique(df[tru_list]['label'],return_counts=True)"
   ]
  },
  {
   "cell_type": "code",
   "execution_count": 71,
   "metadata": {},
   "outputs": [],
   "source": [
    "df1=df[tru_list]"
   ]
  },
  {
   "cell_type": "code",
   "execution_count": 72,
   "metadata": {},
   "outputs": [],
   "source": [
    "df1.to_csv(\"fake_covid.csv\")"
   ]
  },
  {
   "cell_type": "code",
   "execution_count": 73,
   "metadata": {},
   "outputs": [
    {
     "data": {
      "text/plain": [
       "{'id': 8263,\n",
       " 'slug': 'van-jones-says-un-has-conducted-172-successful-pea',\n",
       " 'speaker': {'slug': 'van-jones',\n",
       "  'full_name': 'Van Jones',\n",
       "  'first_name': 'Van',\n",
       "  'last_name': 'Jones'},\n",
       " 'targets': [],\n",
       " 'statement': '<p>The United Nations has conducted &quot;172 successful peacekeeping missions and negotiations.&quot;</p>\\r\\n',\n",
       " 'ruling_slug': 'mostly-true',\n",
       " 'publication_date': '2013-09-12T15:56:56-04:00',\n",
       " 'ruling_comments': '<p>With the U.S. and Russia locked in discussions over whether, and how, to exert control over Syria&rsquo;s chemical weapons stockpiles, the United Nations&rsquo; role in international arms control is of particular interest.</p>\\r\\n\\r\\n<p>During a discussion on <a href=\"http://transcripts.cnn.com/TRANSCRIPTS/1309/10/cfr.01.html\"><u>CNN&rsquo;s </u><em><u>Crossfire</u></em></a>, host Van Jones pointed to the United Nations&rsquo; long record of successful actions to keep the peace and protect civilians.</p>\\r\\n\\r\\n<p>When co-host S.E. Cupp asked, &quot;Do you trust the U.N.?&quot; Jones responded that the United Nations had overseen &quot;172 successful peacekeeping missions and negotiations.&quot;</p>\\r\\n\\r\\n<p>After Cupp expressed skepticism, Jones continued, &quot;The world is a tough, nasty place, and we focus on the places the U.N. has not been able to change human nature. But we are in a much safer world because of the U.N. than we would be without it.&quot;</p>\\r\\n\\r\\n<p>Is it really true that the United Nations, since its establishment after the end of World War II, has overseen &quot;172 successful peacekeeping missions and negotiations&quot;? That would be between two and three new ones per year.</p>\\r\\n\\r\\n<p>When we checked with Jones, he pointed to a <a href=\"http://www.un.org/wcm/webdav/site/visitors/shared/documents/pdfs/Pub_United%20Nations_60%20ways.pdf\"><u>2005 U.N. report</u></a>. It stated that &quot;since 1945, the U.N. has assisted in negotiating more than 170 peace settlements that have ended regional conflicts. Examples include ending the Iran-Iraq war, facilitating the withdrawal of Soviet troops from Afghanistan and ending the civil wars in El Salvador and Guatemala. The United Nations has used quiet diplomacy to avert imminent wars.&quot;</p>\\r\\n\\r\\n<p>Because the document is eight years old -- and because &quot;170 peace settlements&quot; is not precisely the same thing as &quot;172 successful peacekeeping missions and negotiations&quot; -- we decided to check with the United Nations directly to see if there was an updated number.</p>\\r\\n\\r\\n<p>Counting the peacekeeping missions -- which are typically launched once a peace deal is in place -- is pretty straightforward: The running total since 1948 is 68 peacekeeping missions, of which 15 are ongoing. (The full list is <a href=\"http://www.un.org/en/peacekeeping/documents/operationslist.pdf\"><u>in this U.N. document</u></a>.)</p>\\r\\n\\r\\n<p>Counting &quot;negotiations&quot; is trickier.</p>\\r\\n\\r\\n<p>One obstacle to arriving at a solid number is that negotiations go on all the time, conducted by &quot;envoys, small offices, or officers&quot; even before a U.N. mission has been established, said Kieran Dwyer, the public affairs section chief in the U.N. departments of peacekeeping operations and field support.</p>\\r\\n\\r\\n<p>Another obstacle is that there&rsquo;s overlap between peacekeeping operations and negotiations, so there&rsquo;s a risk of double counting.</p>\\r\\n\\r\\n<p>&quot;In cases where there is an existing peacekeeping operation, such as in the Democratic Republic of Congo and in Mali, the mission is involved in supporting continuing political processes or negotiations,&quot; Dwyer said. &quot;This is a standard part of the mandate of many of the existing missions, supporting the completion of peace processes, often including negotiations of some sort.&quot;</p>\\r\\n\\r\\n<p>Such complications have meant that the United Nations is no longer updating the number it cited in 2005.</p>\\r\\n\\r\\n<p>&quot;We are not currently keeping a running count of peace agreements reached with U.N. involvement,&quot; said Jared Kotler, senior officer for strategic communications and public affairs with the United Nations&rsquo; political affairs department.</p>\\r\\n\\r\\n<p><strong>Our ruling</strong></p>\\r\\n\\r\\n<p>Jones said the United Nations has conducted &quot;172 successful peacekeeping missions and negotiations.&quot;</p>\\r\\n\\r\\n<p>His claim comes from a U.N. document, though one that is eight years old and that referred to a somewhat different metric. U.N. officials say there&rsquo;s no way of knowing the correct number today, but the 2005 figure, combined with other data that is up to date, suggests that 172 is a reasonable approximation. We rate the claim Mostly True.</p>\\r\\n',\n",
       " 'sources': '<p>Van Jones, comments on CNN&rsquo;s <a href=\"http://transcripts.cnn.com/TRANSCRIPTS/1309/10/cfr.01.html\"><u>Crossfire</u></a>, Sept. 10, 2013</p>\\r\\n\\r\\n<p>United Nations, &quot;<a href=\"http://www.un.org/en/peacekeeping/documents/operationslist.pdf\"><u>List of Peacekeeping Operations, 1948-2013</u></a>,&quot; accessed Sept. 12, 2013</p>\\r\\n\\r\\n<p>United Nations, &quot;<a href=\"http://www.un.org/wcm/webdav/site/visitors/shared/documents/pdfs/Pub_United%20Nations_60%20ways.pdf\"><u>60 ways the United Nations makes a difference</u></a>,&quot; Oct. 24, 2005</p>\\r\\n\\r\\n<p>Email interview with Kieran Dwyer, public affairs section chief in the U.N. departments of peacekeeping operations and field support, Sept. 12, 2013</p>\\r\\n\\r\\n<p>Email interview with Jared Kotler, senior officer for strategic communications and public affairs with the United Nations&rsquo; political affairs department, Sept. 12, 2013</p>\\r\\n'}"
      ]
     },
     "execution_count": 73,
     "metadata": {},
     "output_type": "execute_result"
    }
   ],
   "source": [
    "articles[0]"
   ]
  },
  {
   "cell_type": "code",
   "execution_count": null,
   "metadata": {},
   "outputs": [],
   "source": []
  }
 ],
 "metadata": {
  "kernelspec": {
   "display_name": "Python 3",
   "language": "python",
   "name": "python3"
  },
  "language_info": {
   "codemirror_mode": {
    "name": "ipython",
    "version": 3
   },
   "file_extension": ".py",
   "mimetype": "text/x-python",
   "name": "python",
   "nbconvert_exporter": "python",
   "pygments_lexer": "ipython3",
   "version": "3.7.6"
  }
 },
 "nbformat": 4,
 "nbformat_minor": 4
}
